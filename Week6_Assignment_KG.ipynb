{
  "nbformat": 4,
  "nbformat_minor": 0,
  "metadata": {
    "colab": {
      "provenance": [],
      "authorship_tag": "ABX9TyOxuqcIj8Aun7ojaSnzbirC",
      "include_colab_link": true
    },
    "kernelspec": {
      "name": "python3",
      "display_name": "Python 3"
    },
    "language_info": {
      "name": "python"
    }
  },
  "cells": [
    {
      "cell_type": "markdown",
      "metadata": {
        "id": "view-in-github",
        "colab_type": "text"
      },
      "source": [
        "<a href=\"https://colab.research.google.com/github/KeldenGhalay/Week6_Assignment_KG/blob/main/Week6_Assignment_KG.ipynb\" target=\"_parent\"><img src=\"https://colab.research.google.com/assets/colab-badge.svg\" alt=\"Open In Colab\"/></a>"
      ]
    },
    {
      "cell_type": "markdown",
      "source": [
        "# Assignment 1\n",
        "A cinema gives discounts based on age:\n",
        "- Children (Below 12 years): Pay 300\n",
        "- Teens (12 - 17) pay 500\n",
        "- Adults (18 - 59) 800\n",
        "- Seniors (60+) 400\n",
        "\n",
        "Write a python program that:\n",
        "1. Asks the user to enter their age\n",
        "2. Uses an if statement to decide the ticket price\n",
        "3. prints ```Your ticket price is xxx``` where xxx is the amount\n",
        "\n",
        "### Extra challenge\n",
        "- Ass another condition: If today is Wednesday, everyoen get a 100 off\n"
      ],
      "metadata": {
        "id": "CTOd82Wzjzpx"
      }
    },
    {
      "cell_type": "markdown",
      "source": [
        "# Assignment 2: Number Guessing Game\n",
        "Write a python program that:\n",
        "1. Picks a secret number (e.g. 7).\n",
        "2. Asks the user to gues the number\n",
        "3. Keep asking until the user guesses correctly (Using a while loop)\n",
        "4. Print ```Congratulations! You guessed correctly``` when correct\n"
      ],
      "metadata": {
        "id": "KBnvu9hNj2tq"
      }
    },
    {
      "cell_type": "markdown",
      "source": [
        "# Assignment 3\n",
        "- Go and research and practice how to use these in functions\n",
        "1. Keyword arguments\n",
        "2. Variable Number of Arguments\n",
        "3. *args and **kwargs\n"
      ],
      "metadata": {
        "id": "0D5f1lULkRsZ"
      }
    },
    {
      "cell_type": "markdown",
      "source": [
        "# Assignment 4\n",
        "## Student Grade Calculator\n",
        "Write a python program that will:\n",
        "1. Define a function called `calculate_grade(marks)` that:\n",
        "  - Takes marks (0-100) as input\n",
        "  - returns the grade based on this scale\n",
        "    - 90-100 --> A\n",
        "    - 80-89 --> B\n",
        "    - 70 - 79--> C\n",
        "    - 60 69 --> D\n",
        "    - Below 60 --> Failed\n",
        "2. Ask the user to enter their marks\n",
        "3. Call the function and print\n",
        "  `Your grade is: X\"`"
      ],
      "metadata": {
        "id": "LC6ZVxJ1j_2y"
      }
    },
    {
      "cell_type": "code",
      "execution_count": 1,
      "metadata": {
        "id": "wTI6Qmv5iCSL"
      },
      "outputs": [],
      "source": []
    },
    {
      "cell_type": "code",
      "source": [],
      "metadata": {
        "id": "Y8iVWfoyihAU"
      },
      "execution_count": null,
      "outputs": []
    }
  ]
}