{
  "nbformat": 4,
  "nbformat_minor": 0,
  "metadata": {
    "colab": {
      "provenance": [],
      "authorship_tag": "ABX9TyM8/u+3Kq845MONf2Sp5nTP",
      "include_colab_link": true
    },
    "kernelspec": {
      "name": "python3",
      "display_name": "Python 3"
    },
    "language_info": {
      "name": "python"
    }
  },
  "cells": [
    {
      "cell_type": "markdown",
      "metadata": {
        "id": "view-in-github",
        "colab_type": "text"
      },
      "source": [
        "<a href=\"https://colab.research.google.com/github/KeldenGhalay/Week6_Assignment_KG/blob/main/Week6_Assignment_KG.ipynb\" target=\"_parent\"><img src=\"https://colab.research.google.com/assets/colab-badge.svg\" alt=\"Open In Colab\"/></a>"
      ]
    },
    {
      "cell_type": "markdown",
      "source": [
        "# Assignment 1\n",
        "A cinema gives discounts based on age:\n",
        "- Children (Below 12 years): Pay 300\n",
        "- Teens (12 - 17) pay 500\n",
        "- Adults (18 - 59) 800\n",
        "- Seniors (60+) 400\n",
        "\n",
        "Write a python program that:\n",
        "1. Asks the user to enter their age\n",
        "2. Uses an if statement to decide the ticket price\n",
        "3. prints ```Your ticket price is xxx``` where xxx is the amount\n",
        "\n",
        "### Extra challenge\n",
        "- Add another condition: If today is Wednesday, everyoen get a 100 off\n"
      ],
      "metadata": {
        "id": "CTOd82Wzjzpx"
      }
    },
    {
      "cell_type": "code",
      "source": [
        "import datetime\n",
        "\n",
        "def ticket(age):\n",
        "    \"\"\"Return the cinema ticket price based on age and day of week.\"\"\"\n",
        "\n",
        "    if age < 12:\n",
        "        price = 300\n",
        "    elif age <= 17:\n",
        "        price = 500\n",
        "    elif age <= 59:\n",
        "        price = 800\n",
        "    else:  # age >= 60\n",
        "        price = 400\n",
        "\n",
        "    today = datetime.datetime.today().strftime(\"%A\")\n",
        "    if today == \"Wednesday\":\n",
        "        price -= 100\n",
        "\n",
        "    return price\n",
        "\n",
        "\n",
        "age = int(input(\"Enter your age: \"))\n",
        "final_price = ticket(age)\n",
        "print(f\"Your ticket price is {final_price}\")\n"
      ],
      "metadata": {
        "colab": {
          "base_uri": "https://localhost:8080/"
        },
        "id": "gJggZPj6tsuQ",
        "outputId": "08927582-89fe-4ea1-c3ec-f3bfd77ff19f"
      },
      "execution_count": 1,
      "outputs": [
        {
          "output_type": "stream",
          "name": "stdout",
          "text": [
            "Enter your age: 33\n",
            "Your ticket price is 800\n"
          ]
        }
      ]
    },
    {
      "cell_type": "markdown",
      "source": [
        "# Assignment 2: Number Guessing Game\n",
        "Write a python program that:\n",
        "1. Picks a secret number (e.g. 7).\n",
        "2. Asks the user to gues the number\n",
        "3. Keep asking until the user guesses correctly (Using a while loop)\n",
        "4. Print ```Congratulations! You guessed correctly``` when correct\n"
      ],
      "metadata": {
        "id": "KBnvu9hNj2tq"
      }
    },
    {
      "cell_type": "code",
      "source": [
        "import random\n",
        "\n",
        "\n",
        "secret_number = random.randint(0, 10)\n",
        "guess = int(input(\"Guess the number (between 0 and 10): \"))\n",
        "\n",
        "while guess != secret_number:\n",
        "    guess = int(input(\"Wrong! Try again: \"))\n",
        "\n",
        "print(\"Congratulations! You guessed correctly\")\n"
      ],
      "metadata": {
        "colab": {
          "base_uri": "https://localhost:8080/"
        },
        "id": "w0bNs_GhxBGH",
        "outputId": "4e0daa5f-2ded-4944-ea5c-b86b9b318fae"
      },
      "execution_count": 2,
      "outputs": [
        {
          "output_type": "stream",
          "name": "stdout",
          "text": [
            "Guess the number (between 0 and 10): 1\n",
            "Wrong! Try again: 2\n",
            "Wrong! Try again: 3\n",
            "Wrong! Try again: 4\n",
            "Wrong! Try again: 5\n",
            "Wrong! Try again: 6\n",
            "Wrong! Try again: 7\n",
            "Congratulations! You guessed correctly\n"
          ]
        }
      ]
    },
    {
      "cell_type": "markdown",
      "source": [
        "# Assignment 3\n",
        "- Go and research and practice how to use these in functions\n",
        "1. Keyword arguments\n",
        "2. Variable Number of Arguments\n",
        "3. *args and **kwargs\n"
      ],
      "metadata": {
        "id": "0D5f1lULkRsZ"
      }
    },
    {
      "cell_type": "code",
      "source": [
        "def intro(name, age):\n",
        "  print(f\"Hello, my name is {name} and I am {age} years old.\")\n",
        "\n",
        "name = input(\"Enter your name: \")\n",
        "age = int(input(\"Enter your age: \"))\n",
        "intro(name=name, age=age)"
      ],
      "metadata": {
        "colab": {
          "base_uri": "https://localhost:8080/"
        },
        "id": "FbKVZjpSx7dS",
        "outputId": "0a8f823e-3462-423a-abff-ec2448b7881f"
      },
      "execution_count": 3,
      "outputs": [
        {
          "output_type": "stream",
          "name": "stdout",
          "text": [
            "Enter your name: Kelden\n",
            "Enter your age: 21\n",
            "Hello, my name is Kelden and I am 21 years old.\n"
          ]
        }
      ]
    },
    {
      "cell_type": "code",
      "source": [
        "# *args (Arbitrary Positional Arguments)\n",
        "\n",
        "def add_numbers(*num):\n",
        "    \"Add all numbers given\"\n",
        "\n",
        "    total = 0\n",
        "    for i in num:\n",
        "        total += i\n",
        "    return total\n",
        "\n",
        "print(add_numbers(1, 2, 3))\n",
        "print(add_numbers(5, 100, 15, 20))\n"
      ],
      "metadata": {
        "colab": {
          "base_uri": "https://localhost:8080/"
        },
        "id": "aNrycuXKyygz",
        "outputId": "a03cffa3-27c2-468e-ea52-073d404a948e"
      },
      "execution_count": 4,
      "outputs": [
        {
          "output_type": "stream",
          "name": "stdout",
          "text": [
            "6\n",
            "140\n"
          ]
        }
      ]
    },
    {
      "cell_type": "code",
      "source": [
        "# **kwargs (Arbitrary Keyword Arguments)\n",
        "\n",
        "def intro(**data):\n",
        "    \"Information dictonary\"\n",
        "\n",
        "    for key, value in data.items():\n",
        "        print(\"{} is {}\".format(key,value))\n",
        "\n",
        "intro(name=\"Kelden\", age=21, country=\"Bhutan\")"
      ],
      "metadata": {
        "colab": {
          "base_uri": "https://localhost:8080/"
        },
        "id": "q6hq7FdXzhfZ",
        "outputId": "d0f4b436-60ab-432c-cf14-12da80d9566c"
      },
      "execution_count": 5,
      "outputs": [
        {
          "output_type": "stream",
          "name": "stdout",
          "text": [
            "name is Kelden\n",
            "age is 21\n",
            "country is Bhutan\n"
          ]
        }
      ]
    },
    {
      "cell_type": "markdown",
      "source": [
        "# Assignment 4\n",
        "## Student Grade Calculator\n",
        "Write a python program that will:\n",
        "1. Define a function called `calculate_grade(marks)` that:\n",
        "  - Takes marks (0-100) as input\n",
        "  - returns the grade based on this scale\n",
        "    - 90-100 --> A\n",
        "    - 80-89 --> B\n",
        "    - 70 - 79--> C\n",
        "    - 60 69 --> D\n",
        "    - Below 60 --> Failed\n",
        "2. Ask the user to enter their marks\n",
        "3. Call the function and print\n",
        "  `Your grade is: X\"`"
      ],
      "metadata": {
        "id": "LC6ZVxJ1j_2y"
      }
    },
    {
      "cell_type": "code",
      "execution_count": 6,
      "metadata": {
        "colab": {
          "base_uri": "https://localhost:8080/"
        },
        "id": "wTI6Qmv5iCSL",
        "outputId": "f2858119-1080-4176-959b-bc910f40304d"
      },
      "outputs": [
        {
          "output_type": "stream",
          "name": "stdout",
          "text": [
            "Enter your marks: 77\n",
            "Your grade is: C\n"
          ]
        }
      ],
      "source": [
        "def calculate_grade(marks):\n",
        "    \"\"\"Return the grade based on marks.\"\"\"\n",
        "\n",
        "    if marks >= 90:\n",
        "        return \"A\"\n",
        "    elif marks >= 80:\n",
        "        return \"B\"\n",
        "    elif marks >= 70:\n",
        "        return \"C\"\n",
        "    elif marks >= 60:\n",
        "        return \"D\"\n",
        "    else:\n",
        "        return \"Failed\"\n",
        "\n",
        "marks = int(input(\"Enter your marks: \"))\n",
        "grade = calculate_grade(marks)\n",
        "print(f\"Your grade is: {grade}\")"
      ]
    },
    {
      "cell_type": "code",
      "source": [],
      "metadata": {
        "id": "Y8iVWfoyihAU"
      },
      "execution_count": null,
      "outputs": []
    }
  ]
}